{
 "cells": [
  {
   "cell_type": "code",
   "execution_count": 3,
   "id": "bd91c4f4",
   "metadata": {},
   "outputs": [],
   "source": [
    "import os\n",
    "\n",
    "data_path = '../train_data/'\n",
    "data_list = os.listdir(data_path)\n",
    "\n",
    "j = 1\n",
    "\n",
    "for i in data_list :\n",
    "    old_name = os.path.join(data_path, i)\n",
    "    new_name = os.path.join(data_path, \"0831_\" + str(j) + \".jpg\")\n",
    "\n",
    "    os.rename(old_name, new_name)\n",
    "    \n",
    "    j+=1"
   ]
  },
  {
   "cell_type": "code",
   "execution_count": null,
   "id": "62375fe4",
   "metadata": {},
   "outputs": [],
   "source": []
  }
 ],
 "metadata": {
  "kernelspec": {
   "display_name": "Python 3",
   "language": "python",
   "name": "python3"
  },
  "language_info": {
   "codemirror_mode": {
    "name": "ipython",
    "version": 3
   },
   "file_extension": ".py",
   "mimetype": "text/x-python",
   "name": "python",
   "nbconvert_exporter": "python",
   "pygments_lexer": "ipython3",
   "version": "3.8.8"
  }
 },
 "nbformat": 4,
 "nbformat_minor": 5
}
